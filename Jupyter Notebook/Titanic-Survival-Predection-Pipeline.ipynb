{
 "cells": [
  {
   "cell_type": "markdown",
   "id": "31cb03de",
   "metadata": {},
   "source": [
    "<p style=\"background-color:#00407A;font-family:newtimeroman;color:#FFF9ED;font-size:100%;text-align:center;border-radius:10px 10px;\">\n",
    "    Titanic Survival Prediction Model\n",
    "</p>\n"
   ]
  },
  {
   "cell_type": "markdown",
   "id": "42d3a532",
   "metadata": {},
   "source": [
    "\n",
    "<div style=\"text-align: center;\">\n",
    "    <img src=\"https://i.pinimg.com/564x/03/6e/32/036e32952ebb3e5d64797f0a8d125cc8.jpg\">\n",
    "</div>\n",
    "\n"
   ]
  },
  {
   "cell_type": "markdown",
   "id": "ee6c92e1",
   "metadata": {},
   "source": [
    "# **Information ℹ**\n",
    "\n",
    "- The Titanic was a British passenger liner that famously sank on its maiden voyage on April 15, 1912.\n",
    "- It remains one of the most well-known maritime disasters in history, resulting in the loss of more than 1,500 lives.\n",
    "- The ship struck an iceberg in the North Atlantic Ocean, leading to its tragic sinking.\n",
    "\n",
    "## Dataset Columns 📁\n",
    "\n",
    "- **PassengerId**: A unique identifier assigned to each passenger on the Titanic.\n",
    "- **Survived**: Indicates whether a passenger survived the disaster. It has binary values: 0 for not survived and 1 for survived.\n",
    "- **Pclass**: Represents the passenger class, categorized as 1, 2, or 3 (1st, 2nd, or 3rd class).\n",
    "- **Name**: The name of the passenger.\n",
    "- **Sex**: The gender of the passenger.\n",
    "- **Age**: The age of the passenger in years.\n",
    "- **SibSp**: Represents the number of siblings or spouses the passenger had aboard the Titanic.\n",
    "- **Parch**: Represents the number of parents or children the passenger had aboard the Titanic.\n",
    "- **Ticket**: The ticket number assigned to the passenger.\n",
    "- **Fare**: The fare or price paid by the passenger for the ticket.\n",
    "- **Cabin**: The cabin number assigned to the passenger (if available).\n",
    "- **Embarked**: Indicates the port of embarkation for the passenger (C = Cherbourg, Q = Queenstown, S = Southampton).\n",
    "\n",
    "## End-to-End Pipeline for Survival Prediction 📈\n",
    "\n",
    "In this notebook, we will develop an end-to-end pipeline for predicting passenger survival on the Titanic. The pipeline will include data analysis, preprocessing, feature selection, model training, and evaluation.\n",
    "\n",
    "By following this pipeline, we aim to gain insights into the factors influencing survival and build a predictive model.\n",
    "\n",
    "We will use popular libraries such as Pandas, NumPy, and Scikit-learn for data manipulation, analysis, and modeling.\n",
    "\n",
    "Let's start building the pipeline!\n"
   ]
  },
  {
   "cell_type": "markdown",
   "id": "aa74c4f8",
   "metadata": {},
   "source": [
    "# Importing Libraries 🐍"
   ]
  },
  {
   "cell_type": "code",
   "execution_count": 1,
   "id": "7a34ab7d",
   "metadata": {
    "execution": {
     "iopub.execute_input": "2023-07-10T16:14:45.110736Z",
     "iopub.status.busy": "2023-07-10T16:14:45.110467Z",
     "iopub.status.idle": "2023-07-10T16:14:45.117755Z",
     "shell.execute_reply": "2023-07-10T16:14:45.116628Z",
     "shell.execute_reply.started": "2023-07-10T16:14:45.110713Z"
    }
   },
   "outputs": [],
   "source": [
    "import pandas as pd\n",
    "import numpy as np\n",
    "from sklearn.model_selection import train_test_split\n",
    "from sklearn.compose import ColumnTransformer\n",
    "from sklearn.impute import SimpleImputer\n",
    "from sklearn.preprocessing import OneHotEncoder, StandardScaler\n",
    "from sklearn.pipeline import Pipeline\n",
    "from sklearn.tree import DecisionTreeClassifier\n",
    "from sklearn.ensemble import RandomForestClassifier\n",
    "from sklearn.feature_selection import RFE\n",
    "from sklearn.metrics import accuracy_score\n",
    "from sklearn.model_selection import cross_val_score\n",
    "from sklearn.model_selection import GridSearchCV\n",
    "import pickle\n",
    "\n",
    "from sklearn import set_config\n",
    "set_config(display='diagram')\n",
    "import warnings\n",
    "warnings.filterwarnings(\"ignore\")"
   ]
  },
  {
   "cell_type": "code",
   "execution_count": 2,
   "id": "409aee8c",
   "metadata": {
    "execution": {
     "iopub.execute_input": "2023-07-10T16:14:45.119453Z",
     "iopub.status.busy": "2023-07-10T16:14:45.119172Z",
     "iopub.status.idle": "2023-07-10T16:14:45.137439Z",
     "shell.execute_reply": "2023-07-10T16:14:45.136551Z",
     "shell.execute_reply.started": "2023-07-10T16:14:45.119429Z"
    }
   },
   "outputs": [],
   "source": [
    "df=pd.read_csv(r\"https://github.com/I-AdityaGoyal/Titanic-Survival-Prediction-Model/blob/main/CSV%20File/train.csv\")"
   ]
  },
  {
   "cell_type": "code",
   "execution_count": 3,
   "id": "33a6e716",
   "metadata": {
    "execution": {
     "iopub.execute_input": "2023-07-10T16:14:45.138725Z",
     "iopub.status.busy": "2023-07-10T16:14:45.138427Z",
     "iopub.status.idle": "2023-07-10T16:14:45.154013Z",
     "shell.execute_reply": "2023-07-10T16:14:45.152994Z",
     "shell.execute_reply.started": "2023-07-10T16:14:45.138701Z"
    }
   },
   "outputs": [
    {
     "data": {
      "text/html": [
       "<div>\n",
       "<style scoped>\n",
       "    .dataframe tbody tr th:only-of-type {\n",
       "        vertical-align: middle;\n",
       "    }\n",
       "\n",
       "    .dataframe tbody tr th {\n",
       "        vertical-align: top;\n",
       "    }\n",
       "\n",
       "    .dataframe thead th {\n",
       "        text-align: right;\n",
       "    }\n",
       "</style>\n",
       "<table border=\"1\" class=\"dataframe\">\n",
       "  <thead>\n",
       "    <tr style=\"text-align: right;\">\n",
       "      <th></th>\n",
       "      <th>PassengerId</th>\n",
       "      <th>Survived</th>\n",
       "      <th>Pclass</th>\n",
       "      <th>Name</th>\n",
       "      <th>Sex</th>\n",
       "      <th>Age</th>\n",
       "      <th>SibSp</th>\n",
       "      <th>Parch</th>\n",
       "      <th>Ticket</th>\n",
       "      <th>Fare</th>\n",
       "      <th>Cabin</th>\n",
       "      <th>Embarked</th>\n",
       "    </tr>\n",
       "  </thead>\n",
       "  <tbody>\n",
       "    <tr>\n",
       "      <th>0</th>\n",
       "      <td>1</td>\n",
       "      <td>0</td>\n",
       "      <td>3</td>\n",
       "      <td>Braund, Mr. Owen Harris</td>\n",
       "      <td>male</td>\n",
       "      <td>22.0</td>\n",
       "      <td>1</td>\n",
       "      <td>0</td>\n",
       "      <td>A/5 21171</td>\n",
       "      <td>7.2500</td>\n",
       "      <td>NaN</td>\n",
       "      <td>S</td>\n",
       "    </tr>\n",
       "    <tr>\n",
       "      <th>1</th>\n",
       "      <td>2</td>\n",
       "      <td>1</td>\n",
       "      <td>1</td>\n",
       "      <td>Cumings, Mrs. John Bradley (Florence Briggs Th...</td>\n",
       "      <td>female</td>\n",
       "      <td>38.0</td>\n",
       "      <td>1</td>\n",
       "      <td>0</td>\n",
       "      <td>PC 17599</td>\n",
       "      <td>71.2833</td>\n",
       "      <td>C85</td>\n",
       "      <td>C</td>\n",
       "    </tr>\n",
       "    <tr>\n",
       "      <th>2</th>\n",
       "      <td>3</td>\n",
       "      <td>1</td>\n",
       "      <td>3</td>\n",
       "      <td>Heikkinen, Miss. Laina</td>\n",
       "      <td>female</td>\n",
       "      <td>26.0</td>\n",
       "      <td>0</td>\n",
       "      <td>0</td>\n",
       "      <td>STON/O2. 3101282</td>\n",
       "      <td>7.9250</td>\n",
       "      <td>NaN</td>\n",
       "      <td>S</td>\n",
       "    </tr>\n",
       "    <tr>\n",
       "      <th>3</th>\n",
       "      <td>4</td>\n",
       "      <td>1</td>\n",
       "      <td>1</td>\n",
       "      <td>Futrelle, Mrs. Jacques Heath (Lily May Peel)</td>\n",
       "      <td>female</td>\n",
       "      <td>35.0</td>\n",
       "      <td>1</td>\n",
       "      <td>0</td>\n",
       "      <td>113803</td>\n",
       "      <td>53.1000</td>\n",
       "      <td>C123</td>\n",
       "      <td>S</td>\n",
       "    </tr>\n",
       "    <tr>\n",
       "      <th>4</th>\n",
       "      <td>5</td>\n",
       "      <td>0</td>\n",
       "      <td>3</td>\n",
       "      <td>Allen, Mr. William Henry</td>\n",
       "      <td>male</td>\n",
       "      <td>35.0</td>\n",
       "      <td>0</td>\n",
       "      <td>0</td>\n",
       "      <td>373450</td>\n",
       "      <td>8.0500</td>\n",
       "      <td>NaN</td>\n",
       "      <td>S</td>\n",
       "    </tr>\n",
       "  </tbody>\n",
       "</table>\n",
       "</div>"
      ],
      "text/plain": [
       "   PassengerId  Survived  Pclass  \\\n",
       "0            1         0       3   \n",
       "1            2         1       1   \n",
       "2            3         1       3   \n",
       "3            4         1       1   \n",
       "4            5         0       3   \n",
       "\n",
       "                                                Name     Sex   Age  SibSp  \\\n",
       "0                            Braund, Mr. Owen Harris    male  22.0      1   \n",
       "1  Cumings, Mrs. John Bradley (Florence Briggs Th...  female  38.0      1   \n",
       "2                             Heikkinen, Miss. Laina  female  26.0      0   \n",
       "3       Futrelle, Mrs. Jacques Heath (Lily May Peel)  female  35.0      1   \n",
       "4                           Allen, Mr. William Henry    male  35.0      0   \n",
       "\n",
       "   Parch            Ticket     Fare Cabin Embarked  \n",
       "0      0         A/5 21171   7.2500   NaN        S  \n",
       "1      0          PC 17599  71.2833   C85        C  \n",
       "2      0  STON/O2. 3101282   7.9250   NaN        S  \n",
       "3      0            113803  53.1000  C123        S  \n",
       "4      0            373450   8.0500   NaN        S  "
      ]
     },
     "execution_count": 3,
     "metadata": {},
     "output_type": "execute_result"
    }
   ],
   "source": [
    "df.head()"
   ]
  },
  {
   "cell_type": "markdown",
   "id": "4e489ada",
   "metadata": {},
   "source": [
    "# Feature Engineering 👷‍♂️"
   ]
  },
  {
   "cell_type": "code",
   "execution_count": 4,
   "id": "20998553",
   "metadata": {
    "execution": {
     "iopub.execute_input": "2023-07-10T16:14:45.155448Z",
     "iopub.status.busy": "2023-07-10T16:14:45.155170Z",
     "iopub.status.idle": "2023-07-10T16:14:45.171170Z",
     "shell.execute_reply": "2023-07-10T16:14:45.170170Z",
     "shell.execute_reply.started": "2023-07-10T16:14:45.155425Z"
    }
   },
   "outputs": [],
   "source": [
    "df['FamilySize'] = df['SibSp'] + df['Parch'] + 1\n",
    "df['Fare'] = pd.qcut(df['Fare'], q=4, labels=['Low', 'Medium', 'High', 'Very High'])\n",
    "\n",
    "df.drop(['PassengerId', 'Cabin','Ticket','Name','SibSp','Parch'], axis=1, inplace=True)\n"
   ]
  },
  {
   "cell_type": "code",
   "execution_count": 5,
   "id": "3ac117e8",
   "metadata": {
    "execution": {
     "iopub.execute_input": "2023-07-10T16:14:45.173601Z",
     "iopub.status.busy": "2023-07-10T16:14:45.172935Z",
     "iopub.status.idle": "2023-07-10T16:14:45.189214Z",
     "shell.execute_reply": "2023-07-10T16:14:45.188144Z",
     "shell.execute_reply.started": "2023-07-10T16:14:45.173561Z"
    }
   },
   "outputs": [
    {
     "data": {
      "text/html": [
       "<div>\n",
       "<style scoped>\n",
       "    .dataframe tbody tr th:only-of-type {\n",
       "        vertical-align: middle;\n",
       "    }\n",
       "\n",
       "    .dataframe tbody tr th {\n",
       "        vertical-align: top;\n",
       "    }\n",
       "\n",
       "    .dataframe thead th {\n",
       "        text-align: right;\n",
       "    }\n",
       "</style>\n",
       "<table border=\"1\" class=\"dataframe\">\n",
       "  <thead>\n",
       "    <tr style=\"text-align: right;\">\n",
       "      <th></th>\n",
       "      <th>Survived</th>\n",
       "      <th>Pclass</th>\n",
       "      <th>Sex</th>\n",
       "      <th>Age</th>\n",
       "      <th>Fare</th>\n",
       "      <th>Embarked</th>\n",
       "      <th>FamilySize</th>\n",
       "    </tr>\n",
       "  </thead>\n",
       "  <tbody>\n",
       "    <tr>\n",
       "      <th>0</th>\n",
       "      <td>0</td>\n",
       "      <td>3</td>\n",
       "      <td>male</td>\n",
       "      <td>22.0</td>\n",
       "      <td>Low</td>\n",
       "      <td>S</td>\n",
       "      <td>2</td>\n",
       "    </tr>\n",
       "    <tr>\n",
       "      <th>1</th>\n",
       "      <td>1</td>\n",
       "      <td>1</td>\n",
       "      <td>female</td>\n",
       "      <td>38.0</td>\n",
       "      <td>Very High</td>\n",
       "      <td>C</td>\n",
       "      <td>2</td>\n",
       "    </tr>\n",
       "    <tr>\n",
       "      <th>2</th>\n",
       "      <td>1</td>\n",
       "      <td>3</td>\n",
       "      <td>female</td>\n",
       "      <td>26.0</td>\n",
       "      <td>Medium</td>\n",
       "      <td>S</td>\n",
       "      <td>1</td>\n",
       "    </tr>\n",
       "    <tr>\n",
       "      <th>3</th>\n",
       "      <td>1</td>\n",
       "      <td>1</td>\n",
       "      <td>female</td>\n",
       "      <td>35.0</td>\n",
       "      <td>Very High</td>\n",
       "      <td>S</td>\n",
       "      <td>2</td>\n",
       "    </tr>\n",
       "    <tr>\n",
       "      <th>4</th>\n",
       "      <td>0</td>\n",
       "      <td>3</td>\n",
       "      <td>male</td>\n",
       "      <td>35.0</td>\n",
       "      <td>Medium</td>\n",
       "      <td>S</td>\n",
       "      <td>1</td>\n",
       "    </tr>\n",
       "    <tr>\n",
       "      <th>5</th>\n",
       "      <td>0</td>\n",
       "      <td>3</td>\n",
       "      <td>male</td>\n",
       "      <td>NaN</td>\n",
       "      <td>Medium</td>\n",
       "      <td>Q</td>\n",
       "      <td>1</td>\n",
       "    </tr>\n",
       "    <tr>\n",
       "      <th>6</th>\n",
       "      <td>0</td>\n",
       "      <td>1</td>\n",
       "      <td>male</td>\n",
       "      <td>54.0</td>\n",
       "      <td>Very High</td>\n",
       "      <td>S</td>\n",
       "      <td>1</td>\n",
       "    </tr>\n",
       "    <tr>\n",
       "      <th>7</th>\n",
       "      <td>0</td>\n",
       "      <td>3</td>\n",
       "      <td>male</td>\n",
       "      <td>2.0</td>\n",
       "      <td>High</td>\n",
       "      <td>S</td>\n",
       "      <td>5</td>\n",
       "    </tr>\n",
       "    <tr>\n",
       "      <th>8</th>\n",
       "      <td>1</td>\n",
       "      <td>3</td>\n",
       "      <td>female</td>\n",
       "      <td>27.0</td>\n",
       "      <td>Medium</td>\n",
       "      <td>S</td>\n",
       "      <td>3</td>\n",
       "    </tr>\n",
       "    <tr>\n",
       "      <th>9</th>\n",
       "      <td>1</td>\n",
       "      <td>2</td>\n",
       "      <td>female</td>\n",
       "      <td>14.0</td>\n",
       "      <td>High</td>\n",
       "      <td>C</td>\n",
       "      <td>2</td>\n",
       "    </tr>\n",
       "  </tbody>\n",
       "</table>\n",
       "</div>"
      ],
      "text/plain": [
       "   Survived  Pclass     Sex   Age       Fare Embarked  FamilySize\n",
       "0         0       3    male  22.0        Low        S           2\n",
       "1         1       1  female  38.0  Very High        C           2\n",
       "2         1       3  female  26.0     Medium        S           1\n",
       "3         1       1  female  35.0  Very High        S           2\n",
       "4         0       3    male  35.0     Medium        S           1\n",
       "5         0       3    male   NaN     Medium        Q           1\n",
       "6         0       1    male  54.0  Very High        S           1\n",
       "7         0       3    male   2.0       High        S           5\n",
       "8         1       3  female  27.0     Medium        S           3\n",
       "9         1       2  female  14.0       High        C           2"
      ]
     },
     "execution_count": 5,
     "metadata": {},
     "output_type": "execute_result"
    }
   ],
   "source": [
    "df.head(10)"
   ]
  },
  {
   "cell_type": "code",
   "execution_count": 6,
   "id": "767c9122",
   "metadata": {
    "execution": {
     "iopub.execute_input": "2023-07-10T16:14:45.191290Z",
     "iopub.status.busy": "2023-07-10T16:14:45.190497Z",
     "iopub.status.idle": "2023-07-10T16:14:45.204093Z",
     "shell.execute_reply": "2023-07-10T16:14:45.203346Z",
     "shell.execute_reply.started": "2023-07-10T16:14:45.191258Z"
    }
   },
   "outputs": [
    {
     "data": {
      "text/plain": [
       "Survived        0\n",
       "Pclass          0\n",
       "Sex             0\n",
       "Age           177\n",
       "Fare            0\n",
       "Embarked        2\n",
       "FamilySize      0\n",
       "dtype: int64"
      ]
     },
     "execution_count": 6,
     "metadata": {},
     "output_type": "execute_result"
    }
   ],
   "source": [
    "df.isnull().sum()"
   ]
  },
  {
   "cell_type": "code",
   "execution_count": 7,
   "id": "1fb00075",
   "metadata": {
    "execution": {
     "iopub.execute_input": "2023-07-10T16:14:45.206631Z",
     "iopub.status.busy": "2023-07-10T16:14:45.205825Z",
     "iopub.status.idle": "2023-07-10T16:14:45.213250Z",
     "shell.execute_reply": "2023-07-10T16:14:45.212551Z",
     "shell.execute_reply.started": "2023-07-10T16:14:45.206591Z"
    }
   },
   "outputs": [],
   "source": [
    "X = df.drop(\"Survived\", axis=1)\n",
    "y = df[\"Survived\"]\n"
   ]
  },
  {
   "cell_type": "markdown",
   "id": "b188f37e",
   "metadata": {},
   "source": [
    "# Handling Missing Values 🔢"
   ]
  },
  {
   "cell_type": "code",
   "execution_count": 8,
   "id": "dbd6536f",
   "metadata": {
    "execution": {
     "iopub.execute_input": "2023-07-10T16:14:45.215775Z",
     "iopub.status.busy": "2023-07-10T16:14:45.214364Z",
     "iopub.status.idle": "2023-07-10T16:14:45.226730Z",
     "shell.execute_reply": "2023-07-10T16:14:45.225609Z",
     "shell.execute_reply.started": "2023-07-10T16:14:45.215738Z"
    }
   },
   "outputs": [],
   "source": [
    "#trf1: Handling Missing Values\n",
    "\n",
    "trf1 = ColumnTransformer(\n",
    "    transformers=[\n",
    "        (\"imputer_age\", SimpleImputer(strategy=\"most_frequent\"), [2]),\n",
    "        (\"imputer_embark\", SimpleImputer(strategy=\"most_frequent\"), [4])\n",
    "    ],\n",
    "    remainder='passthrough'\n",
    ")"
   ]
  },
  {
   "cell_type": "markdown",
   "id": "580f91c0",
   "metadata": {},
   "source": [
    "# Handling Categorical Values 🔠"
   ]
  },
  {
   "cell_type": "code",
   "execution_count": 9,
   "id": "e3fb9ffa",
   "metadata": {
    "execution": {
     "iopub.execute_input": "2023-07-10T16:14:45.228023Z",
     "iopub.status.busy": "2023-07-10T16:14:45.227781Z",
     "iopub.status.idle": "2023-07-10T16:14:45.240257Z",
     "shell.execute_reply": "2023-07-10T16:14:45.239544Z",
     "shell.execute_reply.started": "2023-07-10T16:14:45.227999Z"
    }
   },
   "outputs": [],
   "source": [
    "# trf2: Handling Categorical Values\n",
    "\n",
    "trf2 = ColumnTransformer(\n",
    "    transformers=[\n",
    "        (\"ohe\",OneHotEncoder(sparse=False,dtype=np.int32, drop='first',handle_unknown=\"ignore\"),[1,3,4]),\n",
    "    ],\n",
    "    remainder='passthrough'\n",
    ")"
   ]
  },
  {
   "cell_type": "markdown",
   "id": "556da23e",
   "metadata": {},
   "source": [
    "# Feature Scaling ⚡"
   ]
  },
  {
   "cell_type": "code",
   "execution_count": 10,
   "id": "72403b24",
   "metadata": {
    "execution": {
     "iopub.execute_input": "2023-07-10T16:14:45.242101Z",
     "iopub.status.busy": "2023-07-10T16:14:45.241183Z",
     "iopub.status.idle": "2023-07-10T16:14:45.256712Z",
     "shell.execute_reply": "2023-07-10T16:14:45.255841Z",
     "shell.execute_reply.started": "2023-07-10T16:14:45.242073Z"
    }
   },
   "outputs": [],
   "source": [
    "# trf3: Feature Scaling\n",
    "\n",
    "trf3 = ColumnTransformer(\n",
    "    transformers=[\n",
    "        (\"scale\", StandardScaler(), slice(0,15))\n",
    "    ])"
   ]
  },
  {
   "cell_type": "markdown",
   "id": "efae5052",
   "metadata": {},
   "source": [
    "# Feature Selection 🔎"
   ]
  },
  {
   "cell_type": "code",
   "execution_count": 11,
   "id": "22201e5b",
   "metadata": {
    "execution": {
     "iopub.execute_input": "2023-07-10T16:14:45.258262Z",
     "iopub.status.busy": "2023-07-10T16:14:45.257806Z",
     "iopub.status.idle": "2023-07-10T16:14:45.269663Z",
     "shell.execute_reply": "2023-07-10T16:14:45.268676Z",
     "shell.execute_reply.started": "2023-07-10T16:14:45.258240Z"
    }
   },
   "outputs": [],
   "source": [
    "# trf4 Feature Selection\n",
    "trf4 = RFE(estimator= RandomForestClassifier(), n_features_to_select=3)"
   ]
  },
  {
   "cell_type": "markdown",
   "id": "0de9319a",
   "metadata": {},
   "source": [
    "# Model Selection ♏"
   ]
  },
  {
   "cell_type": "code",
   "execution_count": 12,
   "id": "f7918bf8",
   "metadata": {
    "execution": {
     "iopub.execute_input": "2023-07-10T16:14:45.274691Z",
     "iopub.status.busy": "2023-07-10T16:14:45.273989Z",
     "iopub.status.idle": "2023-07-10T16:14:45.280963Z",
     "shell.execute_reply": "2023-07-10T16:14:45.279952Z",
     "shell.execute_reply.started": "2023-07-10T16:14:45.274667Z"
    }
   },
   "outputs": [],
   "source": [
    "# trf5: Model\n",
    "trf5 = RandomForestClassifier()"
   ]
  },
  {
   "cell_type": "markdown",
   "id": "c3e39133",
   "metadata": {},
   "source": [
    "# Pipeline 🤖"
   ]
  },
  {
   "cell_type": "code",
   "execution_count": 13,
   "id": "65179e12",
   "metadata": {
    "execution": {
     "iopub.execute_input": "2023-07-10T16:14:45.283399Z",
     "iopub.status.busy": "2023-07-10T16:14:45.282968Z",
     "iopub.status.idle": "2023-07-10T16:14:45.293575Z",
     "shell.execute_reply": "2023-07-10T16:14:45.292303Z",
     "shell.execute_reply.started": "2023-07-10T16:14:45.283361Z"
    }
   },
   "outputs": [],
   "source": [
    "# Creating Pipeline\n",
    "pipe = Pipeline([\n",
    "    (\"trf1\",trf1),\n",
    "    (\"trf2\",trf2),\n",
    "    (\"trf3\",trf3),\n",
    "    (\"trf4\",trf4),\n",
    "    (\"trf5\",trf5)\n",
    "])"
   ]
  },
  {
   "cell_type": "code",
   "execution_count": 14,
   "id": "889b64c9",
   "metadata": {
    "execution": {
     "iopub.execute_input": "2023-07-10T16:14:45.295062Z",
     "iopub.status.busy": "2023-07-10T16:14:45.294730Z",
     "iopub.status.idle": "2023-07-10T16:14:45.306660Z",
     "shell.execute_reply": "2023-07-10T16:14:45.305877Z",
     "shell.execute_reply.started": "2023-07-10T16:14:45.295033Z"
    }
   },
   "outputs": [],
   "source": [
    "X_train,X_test,y_train,y_test = train_test_split(X,y,test_size=0.2)"
   ]
  },
  {
   "cell_type": "code",
   "execution_count": 15,
   "id": "16c2fb0c",
   "metadata": {
    "execution": {
     "iopub.execute_input": "2023-07-10T16:14:45.308135Z",
     "iopub.status.busy": "2023-07-10T16:14:45.307755Z",
     "iopub.status.idle": "2023-07-10T16:14:45.328307Z",
     "shell.execute_reply": "2023-07-10T16:14:45.327507Z",
     "shell.execute_reply.started": "2023-07-10T16:14:45.308113Z"
    }
   },
   "outputs": [
    {
     "data": {
      "text/html": [
       "<div>\n",
       "<style scoped>\n",
       "    .dataframe tbody tr th:only-of-type {\n",
       "        vertical-align: middle;\n",
       "    }\n",
       "\n",
       "    .dataframe tbody tr th {\n",
       "        vertical-align: top;\n",
       "    }\n",
       "\n",
       "    .dataframe thead th {\n",
       "        text-align: right;\n",
       "    }\n",
       "</style>\n",
       "<table border=\"1\" class=\"dataframe\">\n",
       "  <thead>\n",
       "    <tr style=\"text-align: right;\">\n",
       "      <th></th>\n",
       "      <th>Pclass</th>\n",
       "      <th>Sex</th>\n",
       "      <th>Age</th>\n",
       "      <th>Fare</th>\n",
       "      <th>Embarked</th>\n",
       "      <th>FamilySize</th>\n",
       "    </tr>\n",
       "  </thead>\n",
       "  <tbody>\n",
       "    <tr>\n",
       "      <th>451</th>\n",
       "      <td>3</td>\n",
       "      <td>male</td>\n",
       "      <td>NaN</td>\n",
       "      <td>High</td>\n",
       "      <td>S</td>\n",
       "      <td>2</td>\n",
       "    </tr>\n",
       "    <tr>\n",
       "      <th>661</th>\n",
       "      <td>3</td>\n",
       "      <td>male</td>\n",
       "      <td>40.0</td>\n",
       "      <td>Low</td>\n",
       "      <td>C</td>\n",
       "      <td>1</td>\n",
       "    </tr>\n",
       "    <tr>\n",
       "      <th>580</th>\n",
       "      <td>2</td>\n",
       "      <td>female</td>\n",
       "      <td>25.0</td>\n",
       "      <td>High</td>\n",
       "      <td>S</td>\n",
       "      <td>3</td>\n",
       "    </tr>\n",
       "    <tr>\n",
       "      <th>356</th>\n",
       "      <td>1</td>\n",
       "      <td>female</td>\n",
       "      <td>22.0</td>\n",
       "      <td>Very High</td>\n",
       "      <td>S</td>\n",
       "      <td>2</td>\n",
       "    </tr>\n",
       "    <tr>\n",
       "      <th>113</th>\n",
       "      <td>3</td>\n",
       "      <td>female</td>\n",
       "      <td>20.0</td>\n",
       "      <td>Medium</td>\n",
       "      <td>S</td>\n",
       "      <td>2</td>\n",
       "    </tr>\n",
       "    <tr>\n",
       "      <th>...</th>\n",
       "      <td>...</td>\n",
       "      <td>...</td>\n",
       "      <td>...</td>\n",
       "      <td>...</td>\n",
       "      <td>...</td>\n",
       "      <td>...</td>\n",
       "    </tr>\n",
       "    <tr>\n",
       "      <th>203</th>\n",
       "      <td>3</td>\n",
       "      <td>male</td>\n",
       "      <td>45.5</td>\n",
       "      <td>Low</td>\n",
       "      <td>C</td>\n",
       "      <td>1</td>\n",
       "    </tr>\n",
       "    <tr>\n",
       "      <th>350</th>\n",
       "      <td>3</td>\n",
       "      <td>male</td>\n",
       "      <td>23.0</td>\n",
       "      <td>Medium</td>\n",
       "      <td>S</td>\n",
       "      <td>1</td>\n",
       "    </tr>\n",
       "    <tr>\n",
       "      <th>521</th>\n",
       "      <td>3</td>\n",
       "      <td>male</td>\n",
       "      <td>22.0</td>\n",
       "      <td>Low</td>\n",
       "      <td>S</td>\n",
       "      <td>1</td>\n",
       "    </tr>\n",
       "    <tr>\n",
       "      <th>676</th>\n",
       "      <td>3</td>\n",
       "      <td>male</td>\n",
       "      <td>24.5</td>\n",
       "      <td>Medium</td>\n",
       "      <td>S</td>\n",
       "      <td>1</td>\n",
       "    </tr>\n",
       "    <tr>\n",
       "      <th>767</th>\n",
       "      <td>3</td>\n",
       "      <td>female</td>\n",
       "      <td>30.5</td>\n",
       "      <td>Low</td>\n",
       "      <td>Q</td>\n",
       "      <td>1</td>\n",
       "    </tr>\n",
       "  </tbody>\n",
       "</table>\n",
       "<p>712 rows × 6 columns</p>\n",
       "</div>"
      ],
      "text/plain": [
       "     Pclass     Sex   Age       Fare Embarked  FamilySize\n",
       "451       3    male   NaN       High        S           2\n",
       "661       3    male  40.0        Low        C           1\n",
       "580       2  female  25.0       High        S           3\n",
       "356       1  female  22.0  Very High        S           2\n",
       "113       3  female  20.0     Medium        S           2\n",
       "..      ...     ...   ...        ...      ...         ...\n",
       "203       3    male  45.5        Low        C           1\n",
       "350       3    male  23.0     Medium        S           1\n",
       "521       3    male  22.0        Low        S           1\n",
       "676       3    male  24.5     Medium        S           1\n",
       "767       3  female  30.5        Low        Q           1\n",
       "\n",
       "[712 rows x 6 columns]"
      ]
     },
     "execution_count": 15,
     "metadata": {},
     "output_type": "execute_result"
    }
   ],
   "source": [
    "X_train"
   ]
  },
  {
   "cell_type": "code",
   "execution_count": 16,
   "id": "1717d37c",
   "metadata": {
    "execution": {
     "iopub.execute_input": "2023-07-10T16:14:45.329926Z",
     "iopub.status.busy": "2023-07-10T16:14:45.329630Z",
     "iopub.status.idle": "2023-07-10T16:14:46.735038Z",
     "shell.execute_reply": "2023-07-10T16:14:46.734105Z",
     "shell.execute_reply.started": "2023-07-10T16:14:45.329904Z"
    }
   },
   "outputs": [
    {
     "data": {
      "text/html": [
       "<style>#sk-container-id-1 {color: black;}#sk-container-id-1 pre{padding: 0;}#sk-container-id-1 div.sk-toggleable {background-color: white;}#sk-container-id-1 label.sk-toggleable__label {cursor: pointer;display: block;width: 100%;margin-bottom: 0;padding: 0.3em;box-sizing: border-box;text-align: center;}#sk-container-id-1 label.sk-toggleable__label-arrow:before {content: \"▸\";float: left;margin-right: 0.25em;color: #696969;}#sk-container-id-1 label.sk-toggleable__label-arrow:hover:before {color: black;}#sk-container-id-1 div.sk-estimator:hover label.sk-toggleable__label-arrow:before {color: black;}#sk-container-id-1 div.sk-toggleable__content {max-height: 0;max-width: 0;overflow: hidden;text-align: left;background-color: #f0f8ff;}#sk-container-id-1 div.sk-toggleable__content pre {margin: 0.2em;color: black;border-radius: 0.25em;background-color: #f0f8ff;}#sk-container-id-1 input.sk-toggleable__control:checked~div.sk-toggleable__content {max-height: 200px;max-width: 100%;overflow: auto;}#sk-container-id-1 input.sk-toggleable__control:checked~label.sk-toggleable__label-arrow:before {content: \"▾\";}#sk-container-id-1 div.sk-estimator input.sk-toggleable__control:checked~label.sk-toggleable__label {background-color: #d4ebff;}#sk-container-id-1 div.sk-label input.sk-toggleable__control:checked~label.sk-toggleable__label {background-color: #d4ebff;}#sk-container-id-1 input.sk-hidden--visually {border: 0;clip: rect(1px 1px 1px 1px);clip: rect(1px, 1px, 1px, 1px);height: 1px;margin: -1px;overflow: hidden;padding: 0;position: absolute;width: 1px;}#sk-container-id-1 div.sk-estimator {font-family: monospace;background-color: #f0f8ff;border: 1px dotted black;border-radius: 0.25em;box-sizing: border-box;margin-bottom: 0.5em;}#sk-container-id-1 div.sk-estimator:hover {background-color: #d4ebff;}#sk-container-id-1 div.sk-parallel-item::after {content: \"\";width: 100%;border-bottom: 1px solid gray;flex-grow: 1;}#sk-container-id-1 div.sk-label:hover label.sk-toggleable__label {background-color: #d4ebff;}#sk-container-id-1 div.sk-serial::before {content: \"\";position: absolute;border-left: 1px solid gray;box-sizing: border-box;top: 0;bottom: 0;left: 50%;z-index: 0;}#sk-container-id-1 div.sk-serial {display: flex;flex-direction: column;align-items: center;background-color: white;padding-right: 0.2em;padding-left: 0.2em;position: relative;}#sk-container-id-1 div.sk-item {position: relative;z-index: 1;}#sk-container-id-1 div.sk-parallel {display: flex;align-items: stretch;justify-content: center;background-color: white;position: relative;}#sk-container-id-1 div.sk-item::before, #sk-container-id-1 div.sk-parallel-item::before {content: \"\";position: absolute;border-left: 1px solid gray;box-sizing: border-box;top: 0;bottom: 0;left: 50%;z-index: -1;}#sk-container-id-1 div.sk-parallel-item {display: flex;flex-direction: column;z-index: 1;position: relative;background-color: white;}#sk-container-id-1 div.sk-parallel-item:first-child::after {align-self: flex-end;width: 50%;}#sk-container-id-1 div.sk-parallel-item:last-child::after {align-self: flex-start;width: 50%;}#sk-container-id-1 div.sk-parallel-item:only-child::after {width: 0;}#sk-container-id-1 div.sk-dashed-wrapped {border: 1px dashed gray;margin: 0 0.4em 0.5em 0.4em;box-sizing: border-box;padding-bottom: 0.4em;background-color: white;}#sk-container-id-1 div.sk-label label {font-family: monospace;font-weight: bold;display: inline-block;line-height: 1.2em;}#sk-container-id-1 div.sk-label-container {text-align: center;}#sk-container-id-1 div.sk-container {/* jupyter's `normalize.less` sets `[hidden] { display: none; }` but bootstrap.min.css set `[hidden] { display: none !important; }` so we also need the `!important` here to be able to override the default hidden behavior on the sphinx rendered scikit-learn.org. See: https://github.com/scikit-learn/scikit-learn/issues/21755 */display: inline-block !important;position: relative;}#sk-container-id-1 div.sk-text-repr-fallback {display: none;}</style><div id=\"sk-container-id-1\" class=\"sk-top-container\"><div class=\"sk-text-repr-fallback\"><pre>Pipeline(steps=[(&#x27;trf1&#x27;,\n",
       "                 ColumnTransformer(remainder=&#x27;passthrough&#x27;,\n",
       "                                   transformers=[(&#x27;imputer_age&#x27;,\n",
       "                                                  SimpleImputer(strategy=&#x27;most_frequent&#x27;),\n",
       "                                                  [2]),\n",
       "                                                 (&#x27;imputer_embark&#x27;,\n",
       "                                                  SimpleImputer(strategy=&#x27;most_frequent&#x27;),\n",
       "                                                  [4])])),\n",
       "                (&#x27;trf2&#x27;,\n",
       "                 ColumnTransformer(remainder=&#x27;passthrough&#x27;,\n",
       "                                   transformers=[(&#x27;ohe&#x27;,\n",
       "                                                  OneHotEncoder(drop=&#x27;first&#x27;,\n",
       "                                                                dtype=&lt;class &#x27;numpy.int32&#x27;&gt;,\n",
       "                                                                handle_unknown=&#x27;ignore&#x27;,\n",
       "                                                                sparse=False),\n",
       "                                                  [1, 3, 4])])),\n",
       "                (&#x27;trf3&#x27;,\n",
       "                 ColumnTransformer(transformers=[(&#x27;scale&#x27;, StandardScaler(),\n",
       "                                                  slice(0, 15, None))])),\n",
       "                (&#x27;trf4&#x27;,\n",
       "                 RFE(estimator=RandomForestClassifier(),\n",
       "                     n_features_to_select=3)),\n",
       "                (&#x27;trf5&#x27;, RandomForestClassifier())])</pre><b>In a Jupyter environment, please rerun this cell to show the HTML representation or trust the notebook. <br />On GitHub, the HTML representation is unable to render, please try loading this page with nbviewer.org.</b></div><div class=\"sk-container\" hidden><div class=\"sk-item sk-dashed-wrapped\"><div class=\"sk-label-container\"><div class=\"sk-label sk-toggleable\"><input class=\"sk-toggleable__control sk-hidden--visually\" id=\"sk-estimator-id-1\" type=\"checkbox\" ><label for=\"sk-estimator-id-1\" class=\"sk-toggleable__label sk-toggleable__label-arrow\">Pipeline</label><div class=\"sk-toggleable__content\"><pre>Pipeline(steps=[(&#x27;trf1&#x27;,\n",
       "                 ColumnTransformer(remainder=&#x27;passthrough&#x27;,\n",
       "                                   transformers=[(&#x27;imputer_age&#x27;,\n",
       "                                                  SimpleImputer(strategy=&#x27;most_frequent&#x27;),\n",
       "                                                  [2]),\n",
       "                                                 (&#x27;imputer_embark&#x27;,\n",
       "                                                  SimpleImputer(strategy=&#x27;most_frequent&#x27;),\n",
       "                                                  [4])])),\n",
       "                (&#x27;trf2&#x27;,\n",
       "                 ColumnTransformer(remainder=&#x27;passthrough&#x27;,\n",
       "                                   transformers=[(&#x27;ohe&#x27;,\n",
       "                                                  OneHotEncoder(drop=&#x27;first&#x27;,\n",
       "                                                                dtype=&lt;class &#x27;numpy.int32&#x27;&gt;,\n",
       "                                                                handle_unknown=&#x27;ignore&#x27;,\n",
       "                                                                sparse=False),\n",
       "                                                  [1, 3, 4])])),\n",
       "                (&#x27;trf3&#x27;,\n",
       "                 ColumnTransformer(transformers=[(&#x27;scale&#x27;, StandardScaler(),\n",
       "                                                  slice(0, 15, None))])),\n",
       "                (&#x27;trf4&#x27;,\n",
       "                 RFE(estimator=RandomForestClassifier(),\n",
       "                     n_features_to_select=3)),\n",
       "                (&#x27;trf5&#x27;, RandomForestClassifier())])</pre></div></div></div><div class=\"sk-serial\"><div class=\"sk-item sk-dashed-wrapped\"><div class=\"sk-label-container\"><div class=\"sk-label sk-toggleable\"><input class=\"sk-toggleable__control sk-hidden--visually\" id=\"sk-estimator-id-2\" type=\"checkbox\" ><label for=\"sk-estimator-id-2\" class=\"sk-toggleable__label sk-toggleable__label-arrow\">trf1: ColumnTransformer</label><div class=\"sk-toggleable__content\"><pre>ColumnTransformer(remainder=&#x27;passthrough&#x27;,\n",
       "                  transformers=[(&#x27;imputer_age&#x27;,\n",
       "                                 SimpleImputer(strategy=&#x27;most_frequent&#x27;), [2]),\n",
       "                                (&#x27;imputer_embark&#x27;,\n",
       "                                 SimpleImputer(strategy=&#x27;most_frequent&#x27;),\n",
       "                                 [4])])</pre></div></div></div><div class=\"sk-parallel\"><div class=\"sk-parallel-item\"><div class=\"sk-item\"><div class=\"sk-label-container\"><div class=\"sk-label sk-toggleable\"><input class=\"sk-toggleable__control sk-hidden--visually\" id=\"sk-estimator-id-3\" type=\"checkbox\" ><label for=\"sk-estimator-id-3\" class=\"sk-toggleable__label sk-toggleable__label-arrow\">imputer_age</label><div class=\"sk-toggleable__content\"><pre>[2]</pre></div></div></div><div class=\"sk-serial\"><div class=\"sk-item\"><div class=\"sk-estimator sk-toggleable\"><input class=\"sk-toggleable__control sk-hidden--visually\" id=\"sk-estimator-id-4\" type=\"checkbox\" ><label for=\"sk-estimator-id-4\" class=\"sk-toggleable__label sk-toggleable__label-arrow\">SimpleImputer</label><div class=\"sk-toggleable__content\"><pre>SimpleImputer(strategy=&#x27;most_frequent&#x27;)</pre></div></div></div></div></div></div><div class=\"sk-parallel-item\"><div class=\"sk-item\"><div class=\"sk-label-container\"><div class=\"sk-label sk-toggleable\"><input class=\"sk-toggleable__control sk-hidden--visually\" id=\"sk-estimator-id-5\" type=\"checkbox\" ><label for=\"sk-estimator-id-5\" class=\"sk-toggleable__label sk-toggleable__label-arrow\">imputer_embark</label><div class=\"sk-toggleable__content\"><pre>[4]</pre></div></div></div><div class=\"sk-serial\"><div class=\"sk-item\"><div class=\"sk-estimator sk-toggleable\"><input class=\"sk-toggleable__control sk-hidden--visually\" id=\"sk-estimator-id-6\" type=\"checkbox\" ><label for=\"sk-estimator-id-6\" class=\"sk-toggleable__label sk-toggleable__label-arrow\">SimpleImputer</label><div class=\"sk-toggleable__content\"><pre>SimpleImputer(strategy=&#x27;most_frequent&#x27;)</pre></div></div></div></div></div></div><div class=\"sk-parallel-item\"><div class=\"sk-item\"><div class=\"sk-label-container\"><div class=\"sk-label sk-toggleable\"><input class=\"sk-toggleable__control sk-hidden--visually\" id=\"sk-estimator-id-7\" type=\"checkbox\" ><label for=\"sk-estimator-id-7\" class=\"sk-toggleable__label sk-toggleable__label-arrow\">remainder</label><div class=\"sk-toggleable__content\"><pre>[&#x27;Pclass&#x27;, &#x27;Sex&#x27;, &#x27;Fare&#x27;, &#x27;FamilySize&#x27;]</pre></div></div></div><div class=\"sk-serial\"><div class=\"sk-item\"><div class=\"sk-estimator sk-toggleable\"><input class=\"sk-toggleable__control sk-hidden--visually\" id=\"sk-estimator-id-8\" type=\"checkbox\" ><label for=\"sk-estimator-id-8\" class=\"sk-toggleable__label sk-toggleable__label-arrow\">passthrough</label><div class=\"sk-toggleable__content\"><pre>passthrough</pre></div></div></div></div></div></div></div></div><div class=\"sk-item sk-dashed-wrapped\"><div class=\"sk-label-container\"><div class=\"sk-label sk-toggleable\"><input class=\"sk-toggleable__control sk-hidden--visually\" id=\"sk-estimator-id-9\" type=\"checkbox\" ><label for=\"sk-estimator-id-9\" class=\"sk-toggleable__label sk-toggleable__label-arrow\">trf2: ColumnTransformer</label><div class=\"sk-toggleable__content\"><pre>ColumnTransformer(remainder=&#x27;passthrough&#x27;,\n",
       "                  transformers=[(&#x27;ohe&#x27;,\n",
       "                                 OneHotEncoder(drop=&#x27;first&#x27;,\n",
       "                                               dtype=&lt;class &#x27;numpy.int32&#x27;&gt;,\n",
       "                                               handle_unknown=&#x27;ignore&#x27;,\n",
       "                                               sparse=False),\n",
       "                                 [1, 3, 4])])</pre></div></div></div><div class=\"sk-parallel\"><div class=\"sk-parallel-item\"><div class=\"sk-item\"><div class=\"sk-label-container\"><div class=\"sk-label sk-toggleable\"><input class=\"sk-toggleable__control sk-hidden--visually\" id=\"sk-estimator-id-10\" type=\"checkbox\" ><label for=\"sk-estimator-id-10\" class=\"sk-toggleable__label sk-toggleable__label-arrow\">ohe</label><div class=\"sk-toggleable__content\"><pre>[1, 3, 4]</pre></div></div></div><div class=\"sk-serial\"><div class=\"sk-item\"><div class=\"sk-estimator sk-toggleable\"><input class=\"sk-toggleable__control sk-hidden--visually\" id=\"sk-estimator-id-11\" type=\"checkbox\" ><label for=\"sk-estimator-id-11\" class=\"sk-toggleable__label sk-toggleable__label-arrow\">OneHotEncoder</label><div class=\"sk-toggleable__content\"><pre>OneHotEncoder(drop=&#x27;first&#x27;, dtype=&lt;class &#x27;numpy.int32&#x27;&gt;,\n",
       "              handle_unknown=&#x27;ignore&#x27;, sparse=False)</pre></div></div></div></div></div></div><div class=\"sk-parallel-item\"><div class=\"sk-item\"><div class=\"sk-label-container\"><div class=\"sk-label sk-toggleable\"><input class=\"sk-toggleable__control sk-hidden--visually\" id=\"sk-estimator-id-12\" type=\"checkbox\" ><label for=\"sk-estimator-id-12\" class=\"sk-toggleable__label sk-toggleable__label-arrow\">remainder</label><div class=\"sk-toggleable__content\"><pre>[0, 2, 5]</pre></div></div></div><div class=\"sk-serial\"><div class=\"sk-item\"><div class=\"sk-estimator sk-toggleable\"><input class=\"sk-toggleable__control sk-hidden--visually\" id=\"sk-estimator-id-13\" type=\"checkbox\" ><label for=\"sk-estimator-id-13\" class=\"sk-toggleable__label sk-toggleable__label-arrow\">passthrough</label><div class=\"sk-toggleable__content\"><pre>passthrough</pre></div></div></div></div></div></div></div></div><div class=\"sk-item sk-dashed-wrapped\"><div class=\"sk-label-container\"><div class=\"sk-label sk-toggleable\"><input class=\"sk-toggleable__control sk-hidden--visually\" id=\"sk-estimator-id-14\" type=\"checkbox\" ><label for=\"sk-estimator-id-14\" class=\"sk-toggleable__label sk-toggleable__label-arrow\">trf3: ColumnTransformer</label><div class=\"sk-toggleable__content\"><pre>ColumnTransformer(transformers=[(&#x27;scale&#x27;, StandardScaler(),\n",
       "                                 slice(0, 15, None))])</pre></div></div></div><div class=\"sk-parallel\"><div class=\"sk-parallel-item\"><div class=\"sk-item\"><div class=\"sk-label-container\"><div class=\"sk-label sk-toggleable\"><input class=\"sk-toggleable__control sk-hidden--visually\" id=\"sk-estimator-id-15\" type=\"checkbox\" ><label for=\"sk-estimator-id-15\" class=\"sk-toggleable__label sk-toggleable__label-arrow\">scale</label><div class=\"sk-toggleable__content\"><pre>slice(0, 15, None)</pre></div></div></div><div class=\"sk-serial\"><div class=\"sk-item\"><div class=\"sk-estimator sk-toggleable\"><input class=\"sk-toggleable__control sk-hidden--visually\" id=\"sk-estimator-id-16\" type=\"checkbox\" ><label for=\"sk-estimator-id-16\" class=\"sk-toggleable__label sk-toggleable__label-arrow\">StandardScaler</label><div class=\"sk-toggleable__content\"><pre>StandardScaler()</pre></div></div></div></div></div></div></div></div><div class=\"sk-item sk-dashed-wrapped\"><div class=\"sk-label-container\"><div class=\"sk-label sk-toggleable\"><input class=\"sk-toggleable__control sk-hidden--visually\" id=\"sk-estimator-id-17\" type=\"checkbox\" ><label for=\"sk-estimator-id-17\" class=\"sk-toggleable__label sk-toggleable__label-arrow\">trf4: RFE</label><div class=\"sk-toggleable__content\"><pre>RFE(estimator=RandomForestClassifier(), n_features_to_select=3)</pre></div></div></div><div class=\"sk-parallel\"><div class=\"sk-parallel-item\"><div class=\"sk-item\"><div class=\"sk-label-container\"><div class=\"sk-label sk-toggleable\"><input class=\"sk-toggleable__control sk-hidden--visually\" id=\"sk-estimator-id-18\" type=\"checkbox\" ><label for=\"sk-estimator-id-18\" class=\"sk-toggleable__label sk-toggleable__label-arrow\">estimator: RandomForestClassifier</label><div class=\"sk-toggleable__content\"><pre>RandomForestClassifier()</pre></div></div></div><div class=\"sk-serial\"><div class=\"sk-item\"><div class=\"sk-estimator sk-toggleable\"><input class=\"sk-toggleable__control sk-hidden--visually\" id=\"sk-estimator-id-19\" type=\"checkbox\" ><label for=\"sk-estimator-id-19\" class=\"sk-toggleable__label sk-toggleable__label-arrow\">RandomForestClassifier</label><div class=\"sk-toggleable__content\"><pre>RandomForestClassifier()</pre></div></div></div></div></div></div></div></div><div class=\"sk-item\"><div class=\"sk-estimator sk-toggleable\"><input class=\"sk-toggleable__control sk-hidden--visually\" id=\"sk-estimator-id-20\" type=\"checkbox\" ><label for=\"sk-estimator-id-20\" class=\"sk-toggleable__label sk-toggleable__label-arrow\">RandomForestClassifier</label><div class=\"sk-toggleable__content\"><pre>RandomForestClassifier()</pre></div></div></div></div></div></div></div>"
      ],
      "text/plain": [
       "Pipeline(steps=[('trf1',\n",
       "                 ColumnTransformer(remainder='passthrough',\n",
       "                                   transformers=[('imputer_age',\n",
       "                                                  SimpleImputer(strategy='most_frequent'),\n",
       "                                                  [2]),\n",
       "                                                 ('imputer_embark',\n",
       "                                                  SimpleImputer(strategy='most_frequent'),\n",
       "                                                  [4])])),\n",
       "                ('trf2',\n",
       "                 ColumnTransformer(remainder='passthrough',\n",
       "                                   transformers=[('ohe',\n",
       "                                                  OneHotEncoder(drop='first',\n",
       "                                                                dtype=<class 'numpy.int32'>,\n",
       "                                                                handle_unknown='ignore',\n",
       "                                                                sparse=False),\n",
       "                                                  [1, 3, 4])])),\n",
       "                ('trf3',\n",
       "                 ColumnTransformer(transformers=[('scale', StandardScaler(),\n",
       "                                                  slice(0, 15, None))])),\n",
       "                ('trf4',\n",
       "                 RFE(estimator=RandomForestClassifier(),\n",
       "                     n_features_to_select=3)),\n",
       "                ('trf5', RandomForestClassifier())])"
      ]
     },
     "execution_count": 16,
     "metadata": {},
     "output_type": "execute_result"
    }
   ],
   "source": [
    "pipe.fit(X_train, y_train)"
   ]
  },
  {
   "cell_type": "code",
   "execution_count": 17,
   "id": "f8a70d13",
   "metadata": {
    "execution": {
     "iopub.execute_input": "2023-07-10T16:14:46.737322Z",
     "iopub.status.busy": "2023-07-10T16:14:46.736184Z",
     "iopub.status.idle": "2023-07-10T16:14:46.748657Z",
     "shell.execute_reply": "2023-07-10T16:14:46.747833Z",
     "shell.execute_reply.started": "2023-07-10T16:14:46.737269Z"
    }
   },
   "outputs": [
    {
     "data": {
      "text/plain": [
       "{'trf1': ColumnTransformer(remainder='passthrough',\n",
       "                   transformers=[('imputer_age',\n",
       "                                  SimpleImputer(strategy='most_frequent'), [2]),\n",
       "                                 ('imputer_embark',\n",
       "                                  SimpleImputer(strategy='most_frequent'),\n",
       "                                  [4])]),\n",
       " 'trf2': ColumnTransformer(remainder='passthrough',\n",
       "                   transformers=[('ohe',\n",
       "                                  OneHotEncoder(drop='first',\n",
       "                                                dtype=<class 'numpy.int32'>,\n",
       "                                                handle_unknown='ignore',\n",
       "                                                sparse=False),\n",
       "                                  [1, 3, 4])]),\n",
       " 'trf3': ColumnTransformer(transformers=[('scale', StandardScaler(),\n",
       "                                  slice(0, 15, None))]),\n",
       " 'trf4': RFE(estimator=RandomForestClassifier(), n_features_to_select=3),\n",
       " 'trf5': RandomForestClassifier()}"
      ]
     },
     "execution_count": 17,
     "metadata": {},
     "output_type": "execute_result"
    }
   ],
   "source": [
    "pipe.named_steps"
   ]
  },
  {
   "cell_type": "code",
   "execution_count": 18,
   "id": "37d94fb1",
   "metadata": {
    "execution": {
     "iopub.execute_input": "2023-07-10T16:14:46.750010Z",
     "iopub.status.busy": "2023-07-10T16:14:46.749763Z",
     "iopub.status.idle": "2023-07-10T16:14:46.782068Z",
     "shell.execute_reply": "2023-07-10T16:14:46.780800Z",
     "shell.execute_reply.started": "2023-07-10T16:14:46.749989Z"
    }
   },
   "outputs": [],
   "source": [
    "y_pred = pipe.predict(X_test)"
   ]
  },
  {
   "cell_type": "markdown",
   "id": "02e5b381",
   "metadata": {},
   "source": [
    "# Accuracy 🎯"
   ]
  },
  {
   "cell_type": "code",
   "execution_count": 19,
   "id": "c3551fec",
   "metadata": {
    "execution": {
     "iopub.execute_input": "2023-07-10T16:14:46.783758Z",
     "iopub.status.busy": "2023-07-10T16:14:46.783471Z",
     "iopub.status.idle": "2023-07-10T16:14:46.789273Z",
     "shell.execute_reply": "2023-07-10T16:14:46.788693Z",
     "shell.execute_reply.started": "2023-07-10T16:14:46.783717Z"
    }
   },
   "outputs": [
    {
     "data": {
      "text/plain": [
       "0.8212290502793296"
      ]
     },
     "execution_count": 19,
     "metadata": {},
     "output_type": "execute_result"
    }
   ],
   "source": [
    "accuracy_score(y_test,y_pred)"
   ]
  },
  {
   "cell_type": "markdown",
   "id": "cfae34a6",
   "metadata": {},
   "source": [
    "# Cross Validation Score 💯"
   ]
  },
  {
   "cell_type": "code",
   "execution_count": 20,
   "id": "8edfbb3b",
   "metadata": {
    "execution": {
     "iopub.execute_input": "2023-07-10T16:14:51.332271Z",
     "iopub.status.busy": "2023-07-10T16:14:51.331906Z",
     "iopub.status.idle": "2023-07-10T16:14:57.929133Z",
     "shell.execute_reply": "2023-07-10T16:14:57.928069Z",
     "shell.execute_reply.started": "2023-07-10T16:14:51.332243Z"
    }
   },
   "outputs": [
    {
     "data": {
      "text/plain": [
       "0.7753373387176205"
      ]
     },
     "execution_count": 20,
     "metadata": {},
     "output_type": "execute_result"
    }
   ],
   "source": [
    "cross_val_score(pipe, X_train, y_train, cv=5, scoring=\"accuracy\").mean()"
   ]
  },
  {
   "cell_type": "code",
   "execution_count": 21,
   "id": "9c9a7490",
   "metadata": {
    "execution": {
     "iopub.execute_input": "2023-07-10T16:14:57.931961Z",
     "iopub.status.busy": "2023-07-10T16:14:57.931546Z",
     "iopub.status.idle": "2023-07-10T16:14:57.937476Z",
     "shell.execute_reply": "2023-07-10T16:14:57.936361Z",
     "shell.execute_reply.started": "2023-07-10T16:14:57.931924Z"
    }
   },
   "outputs": [],
   "source": [
    "params = {\n",
    "    'trf5__max_depth':[1,2,3,4,5,None]\n",
    "}"
   ]
  },
  {
   "cell_type": "markdown",
   "id": "1446199c",
   "metadata": {},
   "source": [
    "# Grid Search CV 🚀"
   ]
  },
  {
   "cell_type": "code",
   "execution_count": 22,
   "id": "766bb77e",
   "metadata": {
    "execution": {
     "iopub.execute_input": "2023-07-10T16:14:57.939338Z",
     "iopub.status.busy": "2023-07-10T16:14:57.939016Z",
     "iopub.status.idle": "2023-07-10T16:15:38.523587Z",
     "shell.execute_reply": "2023-07-10T16:15:38.522742Z",
     "shell.execute_reply.started": "2023-07-10T16:14:57.939309Z"
    }
   },
   "outputs": [
    {
     "data": {
      "text/html": [
       "<style>#sk-container-id-2 {color: black;}#sk-container-id-2 pre{padding: 0;}#sk-container-id-2 div.sk-toggleable {background-color: white;}#sk-container-id-2 label.sk-toggleable__label {cursor: pointer;display: block;width: 100%;margin-bottom: 0;padding: 0.3em;box-sizing: border-box;text-align: center;}#sk-container-id-2 label.sk-toggleable__label-arrow:before {content: \"▸\";float: left;margin-right: 0.25em;color: #696969;}#sk-container-id-2 label.sk-toggleable__label-arrow:hover:before {color: black;}#sk-container-id-2 div.sk-estimator:hover label.sk-toggleable__label-arrow:before {color: black;}#sk-container-id-2 div.sk-toggleable__content {max-height: 0;max-width: 0;overflow: hidden;text-align: left;background-color: #f0f8ff;}#sk-container-id-2 div.sk-toggleable__content pre {margin: 0.2em;color: black;border-radius: 0.25em;background-color: #f0f8ff;}#sk-container-id-2 input.sk-toggleable__control:checked~div.sk-toggleable__content {max-height: 200px;max-width: 100%;overflow: auto;}#sk-container-id-2 input.sk-toggleable__control:checked~label.sk-toggleable__label-arrow:before {content: \"▾\";}#sk-container-id-2 div.sk-estimator input.sk-toggleable__control:checked~label.sk-toggleable__label {background-color: #d4ebff;}#sk-container-id-2 div.sk-label input.sk-toggleable__control:checked~label.sk-toggleable__label {background-color: #d4ebff;}#sk-container-id-2 input.sk-hidden--visually {border: 0;clip: rect(1px 1px 1px 1px);clip: rect(1px, 1px, 1px, 1px);height: 1px;margin: -1px;overflow: hidden;padding: 0;position: absolute;width: 1px;}#sk-container-id-2 div.sk-estimator {font-family: monospace;background-color: #f0f8ff;border: 1px dotted black;border-radius: 0.25em;box-sizing: border-box;margin-bottom: 0.5em;}#sk-container-id-2 div.sk-estimator:hover {background-color: #d4ebff;}#sk-container-id-2 div.sk-parallel-item::after {content: \"\";width: 100%;border-bottom: 1px solid gray;flex-grow: 1;}#sk-container-id-2 div.sk-label:hover label.sk-toggleable__label {background-color: #d4ebff;}#sk-container-id-2 div.sk-serial::before {content: \"\";position: absolute;border-left: 1px solid gray;box-sizing: border-box;top: 0;bottom: 0;left: 50%;z-index: 0;}#sk-container-id-2 div.sk-serial {display: flex;flex-direction: column;align-items: center;background-color: white;padding-right: 0.2em;padding-left: 0.2em;position: relative;}#sk-container-id-2 div.sk-item {position: relative;z-index: 1;}#sk-container-id-2 div.sk-parallel {display: flex;align-items: stretch;justify-content: center;background-color: white;position: relative;}#sk-container-id-2 div.sk-item::before, #sk-container-id-2 div.sk-parallel-item::before {content: \"\";position: absolute;border-left: 1px solid gray;box-sizing: border-box;top: 0;bottom: 0;left: 50%;z-index: -1;}#sk-container-id-2 div.sk-parallel-item {display: flex;flex-direction: column;z-index: 1;position: relative;background-color: white;}#sk-container-id-2 div.sk-parallel-item:first-child::after {align-self: flex-end;width: 50%;}#sk-container-id-2 div.sk-parallel-item:last-child::after {align-self: flex-start;width: 50%;}#sk-container-id-2 div.sk-parallel-item:only-child::after {width: 0;}#sk-container-id-2 div.sk-dashed-wrapped {border: 1px dashed gray;margin: 0 0.4em 0.5em 0.4em;box-sizing: border-box;padding-bottom: 0.4em;background-color: white;}#sk-container-id-2 div.sk-label label {font-family: monospace;font-weight: bold;display: inline-block;line-height: 1.2em;}#sk-container-id-2 div.sk-label-container {text-align: center;}#sk-container-id-2 div.sk-container {/* jupyter's `normalize.less` sets `[hidden] { display: none; }` but bootstrap.min.css set `[hidden] { display: none !important; }` so we also need the `!important` here to be able to override the default hidden behavior on the sphinx rendered scikit-learn.org. See: https://github.com/scikit-learn/scikit-learn/issues/21755 */display: inline-block !important;position: relative;}#sk-container-id-2 div.sk-text-repr-fallback {display: none;}</style><div id=\"sk-container-id-2\" class=\"sk-top-container\"><div class=\"sk-text-repr-fallback\"><pre>GridSearchCV(cv=5,\n",
       "             estimator=Pipeline(steps=[(&#x27;trf1&#x27;,\n",
       "                                        ColumnTransformer(remainder=&#x27;passthrough&#x27;,\n",
       "                                                          transformers=[(&#x27;imputer_age&#x27;,\n",
       "                                                                         SimpleImputer(strategy=&#x27;most_frequent&#x27;),\n",
       "                                                                         [2]),\n",
       "                                                                        (&#x27;imputer_embark&#x27;,\n",
       "                                                                         SimpleImputer(strategy=&#x27;most_frequent&#x27;),\n",
       "                                                                         [4])])),\n",
       "                                       (&#x27;trf2&#x27;,\n",
       "                                        ColumnTransformer(remainder=&#x27;passthrough&#x27;,\n",
       "                                                          transformers=[(&#x27;ohe&#x27;,\n",
       "                                                                         OneHotEncoder(drop=&#x27;first&#x27;,\n",
       "                                                                                       dtype=&lt;class &#x27;numpy.int32&#x27;&gt;,\n",
       "                                                                                       handle_unknown=&#x27;ignore&#x27;,\n",
       "                                                                                       sparse=False),\n",
       "                                                                         [1, 3,\n",
       "                                                                          4])])),\n",
       "                                       (&#x27;trf3&#x27;,\n",
       "                                        ColumnTransformer(transformers=[(&#x27;scale&#x27;,\n",
       "                                                                         StandardScaler(),\n",
       "                                                                         slice(0, 15, None))])),\n",
       "                                       (&#x27;trf4&#x27;,\n",
       "                                        RFE(estimator=RandomForestClassifier(),\n",
       "                                            n_features_to_select=3)),\n",
       "                                       (&#x27;trf5&#x27;, RandomForestClassifier())]),\n",
       "             param_grid={&#x27;trf5__max_depth&#x27;: [1, 2, 3, 4, 5, None]},\n",
       "             scoring=&#x27;accuracy&#x27;)</pre><b>In a Jupyter environment, please rerun this cell to show the HTML representation or trust the notebook. <br />On GitHub, the HTML representation is unable to render, please try loading this page with nbviewer.org.</b></div><div class=\"sk-container\" hidden><div class=\"sk-item sk-dashed-wrapped\"><div class=\"sk-label-container\"><div class=\"sk-label sk-toggleable\"><input class=\"sk-toggleable__control sk-hidden--visually\" id=\"sk-estimator-id-21\" type=\"checkbox\" ><label for=\"sk-estimator-id-21\" class=\"sk-toggleable__label sk-toggleable__label-arrow\">GridSearchCV</label><div class=\"sk-toggleable__content\"><pre>GridSearchCV(cv=5,\n",
       "             estimator=Pipeline(steps=[(&#x27;trf1&#x27;,\n",
       "                                        ColumnTransformer(remainder=&#x27;passthrough&#x27;,\n",
       "                                                          transformers=[(&#x27;imputer_age&#x27;,\n",
       "                                                                         SimpleImputer(strategy=&#x27;most_frequent&#x27;),\n",
       "                                                                         [2]),\n",
       "                                                                        (&#x27;imputer_embark&#x27;,\n",
       "                                                                         SimpleImputer(strategy=&#x27;most_frequent&#x27;),\n",
       "                                                                         [4])])),\n",
       "                                       (&#x27;trf2&#x27;,\n",
       "                                        ColumnTransformer(remainder=&#x27;passthrough&#x27;,\n",
       "                                                          transformers=[(&#x27;ohe&#x27;,\n",
       "                                                                         OneHotEncoder(drop=&#x27;first&#x27;,\n",
       "                                                                                       dtype=&lt;class &#x27;numpy.int32&#x27;&gt;,\n",
       "                                                                                       handle_unknown=&#x27;ignore&#x27;,\n",
       "                                                                                       sparse=False),\n",
       "                                                                         [1, 3,\n",
       "                                                                          4])])),\n",
       "                                       (&#x27;trf3&#x27;,\n",
       "                                        ColumnTransformer(transformers=[(&#x27;scale&#x27;,\n",
       "                                                                         StandardScaler(),\n",
       "                                                                         slice(0, 15, None))])),\n",
       "                                       (&#x27;trf4&#x27;,\n",
       "                                        RFE(estimator=RandomForestClassifier(),\n",
       "                                            n_features_to_select=3)),\n",
       "                                       (&#x27;trf5&#x27;, RandomForestClassifier())]),\n",
       "             param_grid={&#x27;trf5__max_depth&#x27;: [1, 2, 3, 4, 5, None]},\n",
       "             scoring=&#x27;accuracy&#x27;)</pre></div></div></div><div class=\"sk-parallel\"><div class=\"sk-parallel-item\"><div class=\"sk-item\"><div class=\"sk-label-container\"><div class=\"sk-label sk-toggleable\"><input class=\"sk-toggleable__control sk-hidden--visually\" id=\"sk-estimator-id-22\" type=\"checkbox\" ><label for=\"sk-estimator-id-22\" class=\"sk-toggleable__label sk-toggleable__label-arrow\">estimator: Pipeline</label><div class=\"sk-toggleable__content\"><pre>Pipeline(steps=[(&#x27;trf1&#x27;,\n",
       "                 ColumnTransformer(remainder=&#x27;passthrough&#x27;,\n",
       "                                   transformers=[(&#x27;imputer_age&#x27;,\n",
       "                                                  SimpleImputer(strategy=&#x27;most_frequent&#x27;),\n",
       "                                                  [2]),\n",
       "                                                 (&#x27;imputer_embark&#x27;,\n",
       "                                                  SimpleImputer(strategy=&#x27;most_frequent&#x27;),\n",
       "                                                  [4])])),\n",
       "                (&#x27;trf2&#x27;,\n",
       "                 ColumnTransformer(remainder=&#x27;passthrough&#x27;,\n",
       "                                   transformers=[(&#x27;ohe&#x27;,\n",
       "                                                  OneHotEncoder(drop=&#x27;first&#x27;,\n",
       "                                                                dtype=&lt;class &#x27;numpy.int32&#x27;&gt;,\n",
       "                                                                handle_unknown=&#x27;ignore&#x27;,\n",
       "                                                                sparse=False),\n",
       "                                                  [1, 3, 4])])),\n",
       "                (&#x27;trf3&#x27;,\n",
       "                 ColumnTransformer(transformers=[(&#x27;scale&#x27;, StandardScaler(),\n",
       "                                                  slice(0, 15, None))])),\n",
       "                (&#x27;trf4&#x27;,\n",
       "                 RFE(estimator=RandomForestClassifier(),\n",
       "                     n_features_to_select=3)),\n",
       "                (&#x27;trf5&#x27;, RandomForestClassifier())])</pre></div></div></div><div class=\"sk-serial\"><div class=\"sk-item\"><div class=\"sk-serial\"><div class=\"sk-item sk-dashed-wrapped\"><div class=\"sk-label-container\"><div class=\"sk-label sk-toggleable\"><input class=\"sk-toggleable__control sk-hidden--visually\" id=\"sk-estimator-id-23\" type=\"checkbox\" ><label for=\"sk-estimator-id-23\" class=\"sk-toggleable__label sk-toggleable__label-arrow\">trf1: ColumnTransformer</label><div class=\"sk-toggleable__content\"><pre>ColumnTransformer(remainder=&#x27;passthrough&#x27;,\n",
       "                  transformers=[(&#x27;imputer_age&#x27;,\n",
       "                                 SimpleImputer(strategy=&#x27;most_frequent&#x27;), [2]),\n",
       "                                (&#x27;imputer_embark&#x27;,\n",
       "                                 SimpleImputer(strategy=&#x27;most_frequent&#x27;),\n",
       "                                 [4])])</pre></div></div></div><div class=\"sk-parallel\"><div class=\"sk-parallel-item\"><div class=\"sk-item\"><div class=\"sk-label-container\"><div class=\"sk-label sk-toggleable\"><input class=\"sk-toggleable__control sk-hidden--visually\" id=\"sk-estimator-id-24\" type=\"checkbox\" ><label for=\"sk-estimator-id-24\" class=\"sk-toggleable__label sk-toggleable__label-arrow\">imputer_age</label><div class=\"sk-toggleable__content\"><pre>[2]</pre></div></div></div><div class=\"sk-serial\"><div class=\"sk-item\"><div class=\"sk-estimator sk-toggleable\"><input class=\"sk-toggleable__control sk-hidden--visually\" id=\"sk-estimator-id-25\" type=\"checkbox\" ><label for=\"sk-estimator-id-25\" class=\"sk-toggleable__label sk-toggleable__label-arrow\">SimpleImputer</label><div class=\"sk-toggleable__content\"><pre>SimpleImputer(strategy=&#x27;most_frequent&#x27;)</pre></div></div></div></div></div></div><div class=\"sk-parallel-item\"><div class=\"sk-item\"><div class=\"sk-label-container\"><div class=\"sk-label sk-toggleable\"><input class=\"sk-toggleable__control sk-hidden--visually\" id=\"sk-estimator-id-26\" type=\"checkbox\" ><label for=\"sk-estimator-id-26\" class=\"sk-toggleable__label sk-toggleable__label-arrow\">imputer_embark</label><div class=\"sk-toggleable__content\"><pre>[4]</pre></div></div></div><div class=\"sk-serial\"><div class=\"sk-item\"><div class=\"sk-estimator sk-toggleable\"><input class=\"sk-toggleable__control sk-hidden--visually\" id=\"sk-estimator-id-27\" type=\"checkbox\" ><label for=\"sk-estimator-id-27\" class=\"sk-toggleable__label sk-toggleable__label-arrow\">SimpleImputer</label><div class=\"sk-toggleable__content\"><pre>SimpleImputer(strategy=&#x27;most_frequent&#x27;)</pre></div></div></div></div></div></div><div class=\"sk-parallel-item\"><div class=\"sk-item\"><div class=\"sk-label-container\"><div class=\"sk-label sk-toggleable\"><input class=\"sk-toggleable__control sk-hidden--visually\" id=\"sk-estimator-id-28\" type=\"checkbox\" ><label for=\"sk-estimator-id-28\" class=\"sk-toggleable__label sk-toggleable__label-arrow\">remainder</label><div class=\"sk-toggleable__content\"><pre>[&#x27;Pclass&#x27;, &#x27;Sex&#x27;, &#x27;Fare&#x27;, &#x27;FamilySize&#x27;]</pre></div></div></div><div class=\"sk-serial\"><div class=\"sk-item\"><div class=\"sk-estimator sk-toggleable\"><input class=\"sk-toggleable__control sk-hidden--visually\" id=\"sk-estimator-id-29\" type=\"checkbox\" ><label for=\"sk-estimator-id-29\" class=\"sk-toggleable__label sk-toggleable__label-arrow\">passthrough</label><div class=\"sk-toggleable__content\"><pre>passthrough</pre></div></div></div></div></div></div></div></div><div class=\"sk-item sk-dashed-wrapped\"><div class=\"sk-label-container\"><div class=\"sk-label sk-toggleable\"><input class=\"sk-toggleable__control sk-hidden--visually\" id=\"sk-estimator-id-30\" type=\"checkbox\" ><label for=\"sk-estimator-id-30\" class=\"sk-toggleable__label sk-toggleable__label-arrow\">trf2: ColumnTransformer</label><div class=\"sk-toggleable__content\"><pre>ColumnTransformer(remainder=&#x27;passthrough&#x27;,\n",
       "                  transformers=[(&#x27;ohe&#x27;,\n",
       "                                 OneHotEncoder(drop=&#x27;first&#x27;,\n",
       "                                               dtype=&lt;class &#x27;numpy.int32&#x27;&gt;,\n",
       "                                               handle_unknown=&#x27;ignore&#x27;,\n",
       "                                               sparse=False),\n",
       "                                 [1, 3, 4])])</pre></div></div></div><div class=\"sk-parallel\"><div class=\"sk-parallel-item\"><div class=\"sk-item\"><div class=\"sk-label-container\"><div class=\"sk-label sk-toggleable\"><input class=\"sk-toggleable__control sk-hidden--visually\" id=\"sk-estimator-id-31\" type=\"checkbox\" ><label for=\"sk-estimator-id-31\" class=\"sk-toggleable__label sk-toggleable__label-arrow\">ohe</label><div class=\"sk-toggleable__content\"><pre>[1, 3, 4]</pre></div></div></div><div class=\"sk-serial\"><div class=\"sk-item\"><div class=\"sk-estimator sk-toggleable\"><input class=\"sk-toggleable__control sk-hidden--visually\" id=\"sk-estimator-id-32\" type=\"checkbox\" ><label for=\"sk-estimator-id-32\" class=\"sk-toggleable__label sk-toggleable__label-arrow\">OneHotEncoder</label><div class=\"sk-toggleable__content\"><pre>OneHotEncoder(drop=&#x27;first&#x27;, dtype=&lt;class &#x27;numpy.int32&#x27;&gt;,\n",
       "              handle_unknown=&#x27;ignore&#x27;, sparse=False)</pre></div></div></div></div></div></div><div class=\"sk-parallel-item\"><div class=\"sk-item\"><div class=\"sk-label-container\"><div class=\"sk-label sk-toggleable\"><input class=\"sk-toggleable__control sk-hidden--visually\" id=\"sk-estimator-id-33\" type=\"checkbox\" ><label for=\"sk-estimator-id-33\" class=\"sk-toggleable__label sk-toggleable__label-arrow\">remainder</label><div class=\"sk-toggleable__content\"><pre>[0, 2, 5]</pre></div></div></div><div class=\"sk-serial\"><div class=\"sk-item\"><div class=\"sk-estimator sk-toggleable\"><input class=\"sk-toggleable__control sk-hidden--visually\" id=\"sk-estimator-id-34\" type=\"checkbox\" ><label for=\"sk-estimator-id-34\" class=\"sk-toggleable__label sk-toggleable__label-arrow\">passthrough</label><div class=\"sk-toggleable__content\"><pre>passthrough</pre></div></div></div></div></div></div></div></div><div class=\"sk-item sk-dashed-wrapped\"><div class=\"sk-label-container\"><div class=\"sk-label sk-toggleable\"><input class=\"sk-toggleable__control sk-hidden--visually\" id=\"sk-estimator-id-35\" type=\"checkbox\" ><label for=\"sk-estimator-id-35\" class=\"sk-toggleable__label sk-toggleable__label-arrow\">trf3: ColumnTransformer</label><div class=\"sk-toggleable__content\"><pre>ColumnTransformer(transformers=[(&#x27;scale&#x27;, StandardScaler(),\n",
       "                                 slice(0, 15, None))])</pre></div></div></div><div class=\"sk-parallel\"><div class=\"sk-parallel-item\"><div class=\"sk-item\"><div class=\"sk-label-container\"><div class=\"sk-label sk-toggleable\"><input class=\"sk-toggleable__control sk-hidden--visually\" id=\"sk-estimator-id-36\" type=\"checkbox\" ><label for=\"sk-estimator-id-36\" class=\"sk-toggleable__label sk-toggleable__label-arrow\">scale</label><div class=\"sk-toggleable__content\"><pre>slice(0, 15, None)</pre></div></div></div><div class=\"sk-serial\"><div class=\"sk-item\"><div class=\"sk-estimator sk-toggleable\"><input class=\"sk-toggleable__control sk-hidden--visually\" id=\"sk-estimator-id-37\" type=\"checkbox\" ><label for=\"sk-estimator-id-37\" class=\"sk-toggleable__label sk-toggleable__label-arrow\">StandardScaler</label><div class=\"sk-toggleable__content\"><pre>StandardScaler()</pre></div></div></div></div></div></div></div></div><div class=\"sk-item sk-dashed-wrapped\"><div class=\"sk-label-container\"><div class=\"sk-label sk-toggleable\"><input class=\"sk-toggleable__control sk-hidden--visually\" id=\"sk-estimator-id-38\" type=\"checkbox\" ><label for=\"sk-estimator-id-38\" class=\"sk-toggleable__label sk-toggleable__label-arrow\">trf4: RFE</label><div class=\"sk-toggleable__content\"><pre>RFE(estimator=RandomForestClassifier(), n_features_to_select=3)</pre></div></div></div><div class=\"sk-parallel\"><div class=\"sk-parallel-item\"><div class=\"sk-item\"><div class=\"sk-label-container\"><div class=\"sk-label sk-toggleable\"><input class=\"sk-toggleable__control sk-hidden--visually\" id=\"sk-estimator-id-39\" type=\"checkbox\" ><label for=\"sk-estimator-id-39\" class=\"sk-toggleable__label sk-toggleable__label-arrow\">estimator: RandomForestClassifier</label><div class=\"sk-toggleable__content\"><pre>RandomForestClassifier()</pre></div></div></div><div class=\"sk-serial\"><div class=\"sk-item\"><div class=\"sk-estimator sk-toggleable\"><input class=\"sk-toggleable__control sk-hidden--visually\" id=\"sk-estimator-id-40\" type=\"checkbox\" ><label for=\"sk-estimator-id-40\" class=\"sk-toggleable__label sk-toggleable__label-arrow\">RandomForestClassifier</label><div class=\"sk-toggleable__content\"><pre>RandomForestClassifier()</pre></div></div></div></div></div></div></div></div><div class=\"sk-item\"><div class=\"sk-estimator sk-toggleable\"><input class=\"sk-toggleable__control sk-hidden--visually\" id=\"sk-estimator-id-41\" type=\"checkbox\" ><label for=\"sk-estimator-id-41\" class=\"sk-toggleable__label sk-toggleable__label-arrow\">RandomForestClassifier</label><div class=\"sk-toggleable__content\"><pre>RandomForestClassifier()</pre></div></div></div></div></div></div></div></div></div></div></div></div>"
      ],
      "text/plain": [
       "GridSearchCV(cv=5,\n",
       "             estimator=Pipeline(steps=[('trf1',\n",
       "                                        ColumnTransformer(remainder='passthrough',\n",
       "                                                          transformers=[('imputer_age',\n",
       "                                                                         SimpleImputer(strategy='most_frequent'),\n",
       "                                                                         [2]),\n",
       "                                                                        ('imputer_embark',\n",
       "                                                                         SimpleImputer(strategy='most_frequent'),\n",
       "                                                                         [4])])),\n",
       "                                       ('trf2',\n",
       "                                        ColumnTransformer(remainder='passthrough',\n",
       "                                                          transformers=[('ohe',\n",
       "                                                                         OneHotEncoder(drop='first',\n",
       "                                                                                       dtype=<class 'numpy.int32'>,\n",
       "                                                                                       handle_unknown='ignore',\n",
       "                                                                                       sparse=False),\n",
       "                                                                         [1, 3,\n",
       "                                                                          4])])),\n",
       "                                       ('trf3',\n",
       "                                        ColumnTransformer(transformers=[('scale',\n",
       "                                                                         StandardScaler(),\n",
       "                                                                         slice(0, 15, None))])),\n",
       "                                       ('trf4',\n",
       "                                        RFE(estimator=RandomForestClassifier(),\n",
       "                                            n_features_to_select=3)),\n",
       "                                       ('trf5', RandomForestClassifier())]),\n",
       "             param_grid={'trf5__max_depth': [1, 2, 3, 4, 5, None]},\n",
       "             scoring='accuracy')"
      ]
     },
     "execution_count": 22,
     "metadata": {},
     "output_type": "execute_result"
    }
   ],
   "source": [
    "grid = GridSearchCV(pipe, params, cv=5, scoring=\"accuracy\")\n",
    "grid.fit(X_train, y_train)"
   ]
  },
  {
   "cell_type": "code",
   "execution_count": 23,
   "id": "07055803",
   "metadata": {
    "execution": {
     "iopub.execute_input": "2023-07-10T16:15:38.525743Z",
     "iopub.status.busy": "2023-07-10T16:15:38.525464Z",
     "iopub.status.idle": "2023-07-10T16:15:38.530430Z",
     "shell.execute_reply": "2023-07-10T16:15:38.529839Z",
     "shell.execute_reply.started": "2023-07-10T16:15:38.525722Z"
    }
   },
   "outputs": [
    {
     "data": {
      "text/plain": [
       "0.7921205555008372"
      ]
     },
     "execution_count": 23,
     "metadata": {},
     "output_type": "execute_result"
    }
   ],
   "source": [
    "grid.best_score_"
   ]
  },
  {
   "cell_type": "code",
   "execution_count": 24,
   "id": "91b079fe",
   "metadata": {
    "execution": {
     "iopub.execute_input": "2023-07-10T16:15:38.531895Z",
     "iopub.status.busy": "2023-07-10T16:15:38.531500Z",
     "iopub.status.idle": "2023-07-10T16:15:38.548181Z",
     "shell.execute_reply": "2023-07-10T16:15:38.547170Z",
     "shell.execute_reply.started": "2023-07-10T16:15:38.531873Z"
    }
   },
   "outputs": [
    {
     "data": {
      "text/plain": [
       "{'trf5__max_depth': 4}"
      ]
     },
     "execution_count": 24,
     "metadata": {},
     "output_type": "execute_result"
    }
   ],
   "source": [
    "grid.best_params_"
   ]
  },
  {
   "cell_type": "markdown",
   "id": "58029ec1",
   "metadata": {},
   "source": [
    "# Pickle ❕"
   ]
  },
  {
   "cell_type": "code",
   "execution_count": 27,
   "id": "5022d6fd",
   "metadata": {
    "execution": {
     "iopub.execute_input": "2023-07-10T16:15:38.549630Z",
     "iopub.status.busy": "2023-07-10T16:15:38.549385Z",
     "iopub.status.idle": "2023-07-10T16:15:38.571951Z",
     "shell.execute_reply": "2023-07-10T16:15:38.570782Z",
     "shell.execute_reply.started": "2023-07-10T16:15:38.549609Z"
    }
   },
   "outputs": [],
   "source": [
    "pickle.dump(pipe, open(\"pipe_data.pkl\",\"wb\"))"
   ]
  },
  {
   "cell_type": "markdown",
   "id": "c585bdc2",
   "metadata": {},
   "source": [
    "<p style=\"background-color:#00407A;font-family:newtimeroman;color:#FFF9ED;font-size:100%;text-align:center;border-radius:10px 10px;\">\n",
    "    Model Deployment\n",
    "</p>"
   ]
  },
  {
   "cell_type": "markdown",
   "id": "1d6f4fd5",
   "metadata": {},
   "source": [
    "# Streamlit Library 💡"
   ]
  },
  {
   "cell_type": "markdown",
   "id": "206c3c1a",
   "metadata": {},
   "source": [
    "- Save this as a python file from any python IDE as(file_name)\n",
    "- Import streamlit from your command prompt\n",
    "- Run this file and type a command\n",
    "- \" streamlit run file_name.py \"\n",
    "- Make Amazing Predictions!!!"
   ]
  },
  {
   "cell_type": "code",
   "execution_count": 26,
   "id": "5ffc63ab",
   "metadata": {
    "_kg_hide-input": true,
    "_kg_hide-output": true,
    "execution": {
     "iopub.execute_input": "2023-07-10T16:15:38.573455Z",
     "iopub.status.busy": "2023-07-10T16:15:38.573237Z",
     "iopub.status.idle": "2023-07-10T16:15:38.580309Z",
     "shell.execute_reply": "2023-07-10T16:15:38.579319Z",
     "shell.execute_reply.started": "2023-07-10T16:15:38.573436Z"
    }
   },
   "outputs": [
    {
     "data": {
      "text/plain": [
       "'\\nimport streamlit as st\\nimport pickle\\nimport pandas as pd\\n\\n\\npipeline = pickle.load(open(\"pipe_data.pkl\",\"rb\"))\\n\\n\\ndef predict_survival(pclass, sex, age, fare, embarked, family_size):\\n    # Create a DataFrame with the user input\\n    data = pd.DataFrame({\\n        \\'Pclass\\': [pclass],\\n        \\'Sex\\': [sex],\\n        \\'Age\\': [age],\\n        \\'Fare\\': [fare],\\n        \\'Embarked\\': [embarked],\\n        \\'FamilySize\\': [family_size]\\n    })\\n    \\n    # Make predictions using the loaded pipeline\\n    predictions = pipeline.predict(data)\\n    \\n    return predictions[0]\\n\\n\\ndef main():\\n    # Set the title and description of the web app\\n    st.title(\\'Titanic Survival Prediction\\')\\n    st.write(\\'Enter the passenger details to predict survival.\\')\\n    \\n    # Get user input using Streamlit input components\\n    pclass = st.selectbox(\\'Pclass\\', [1, 2, 3])\\n    sex = st.radio(\\'Sex\\', [\\'Male\\', \\'Female\\'])\\n    age = st.number_input(\\'Age\\')\\n    fare = st.selectbox(\\'Fare\\', [\\'Low\\', \\'Medium\\', \\'High\\', \\'Very High\\'])\\n    embarked = st.selectbox(\\'Embarked\\', [\\'C\\', \\'Q\\', \\'S\\'])\\n    family_size = st.number_input(\\'Family Size\\')\\n    \\n    # Make predictions on user input\\n    if st.button(\\'Predict\\'):\\n        result = predict_survival(pclass, sex, age, fare, embarked, family_size)\\n        st.write(f\\'The predicted survival is: {result}\\')\\n\\nif __name__ == \\'__main__\\':\\n    main()\\n'"
      ]
     },
     "execution_count": 26,
     "metadata": {},
     "output_type": "execute_result"
    }
   ],
   "source": [
    "'''\n",
    "import streamlit as st\n",
    "import pickle\n",
    "import pandas as pd\n",
    "\n",
    "\n",
    "pipeline = pickle.load(open(\"pipe_data.pkl\",\"rb\"))\n",
    "\n",
    "\n",
    "def predict_survival(pclass, sex, age, fare, embarked, family_size):\n",
    "    # Create a DataFrame with the user input\n",
    "    data = pd.DataFrame({\n",
    "        'Pclass': [pclass],\n",
    "        'Sex': [sex],\n",
    "        'Age': [age],\n",
    "        'Fare': [fare],\n",
    "        'Embarked': [embarked],\n",
    "        'FamilySize': [family_size]\n",
    "    })\n",
    "    \n",
    "    # Make predictions using the loaded pipeline\n",
    "    predictions = pipeline.predict(data)\n",
    "    \n",
    "    return predictions[0]\n",
    "\n",
    "\n",
    "def main():\n",
    "    # Set the title and description of the web app\n",
    "    st.title('Titanic Survival Prediction')\n",
    "    st.write('Enter the passenger details to predict survival.')\n",
    "    \n",
    "    # Get user input using Streamlit input components\n",
    "    pclass = st.selectbox('Pclass', [1, 2, 3])\n",
    "    sex = st.radio('Sex', ['Male', 'Female'])\n",
    "    age = st.number_input('Age')\n",
    "    fare = st.selectbox('Fare', ['Low', 'Medium', 'High', 'Very High'])\n",
    "    embarked = st.selectbox('Embarked', ['C', 'Q', 'S'])\n",
    "    family_size = st.number_input('Family Size')\n",
    "    \n",
    "    # Make predictions on user input\n",
    "    if st.button('Predict'):\n",
    "        result = predict_survival(pclass, sex, age, fare, embarked, family_size)\n",
    "        st.write(f'The predicted survival is: {result}')\n",
    "\n",
    "if __name__ == '__main__':\n",
    "    main()\n",
    "'''"
   ]
  },
  {
   "cell_type": "markdown",
   "id": "5728b482",
   "metadata": {},
   "source": [
    "<p style=\"background-color:#00407A;font-family:newtimeroman;color:#FFF9ED;font-size:100%;text-align:center;border-radius:10px 10px;\">\n",
    "    Conclusion\n",
    "</p>"
   ]
  },
  {
   "cell_type": "markdown",
   "id": "41f5330e",
   "metadata": {},
   "source": [
    "This notebook serves as a comprehensive guide for analyzing the Titanic dataset and developing a survival prediction pipeline. It highlights the importance of data exploration, preprocessing, and modeling techniques in extracting meaningful insights from the data and making accurate predictions.\n",
    "\n",
    "If you found my work valuable, please consider giving it an upvote. Your support is greatly appreciated and encourages me to continue creating valuable content.\n",
    "\n",
    "Thank you for your time!"
   ]
  }
 ],
 "metadata": {
  "kernelspec": {
   "display_name": "Python 3 (ipykernel)",
   "language": "python",
   "name": "python3"
  },
  "language_info": {
   "codemirror_mode": {
    "name": "ipython",
    "version": 3
   },
   "file_extension": ".py",
   "mimetype": "text/x-python",
   "name": "python",
   "nbconvert_exporter": "python",
   "pygments_lexer": "ipython3",
   "version": "3.10.9"
  }
 },
 "nbformat": 4,
 "nbformat_minor": 5
}
